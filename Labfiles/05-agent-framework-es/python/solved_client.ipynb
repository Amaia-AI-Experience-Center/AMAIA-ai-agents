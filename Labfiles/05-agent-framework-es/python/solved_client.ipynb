{
 "cells": [
  {
   "cell_type": "markdown",
   "metadata": {},
   "source": [
    "# Módulo 5: Crear un agente con Agent Framework\n",
    "\n",
    "En este ejercicio, utilizarás Microsoft Agent Framework para crear un agente de IA que procesa informes de gastos de viajes y operaciones aeroespaciales."
   ]
  },
  {
   "cell_type": "markdown",
   "metadata": {},
   "source": [
    "### Cargar librerías"
   ]
  },
  {
   "cell_type": "code",
   "execution_count": null,
   "metadata": {},
   "outputs": [],
   "source": [
    "import os\n",
    "import asyncio\n",
    "from pathlib import Path\n",
    "from agent_framework import AgentThread, ChatAgent\n",
    "from agent_framework.azure import AzureAIAgentClient\n",
    "from azure.identity.aio import AzureCliCredential\n",
    "from pydantic import Field\n",
    "from typing import Annotated"
   ]
  },
  {
   "cell_type": "markdown",
   "metadata": {},
   "source": [
    "### Visualizar los datos de gastos"
   ]
  },
  {
   "cell_type": "code",
   "execution_count": null,
   "metadata": {},
   "outputs": [],
   "source": [
    "script_dir = Path.cwd()\n",
    "file_path = script_dir / 'data.txt'\n",
    "with file_path.open('r') as file:\n",
    "    expenses_data = file.read()\n",
    "    print(\"Datos de gastos:\")\n",
    "    print(expenses_data)"
   ]
  },
  {
   "cell_type": "markdown",
   "metadata": {},
   "source": [
    "### Definir una función de herramienta (Tool Function)\n",
    "\n",
    "Creamos una función `send_email` que el agente podrá utilizar. Esta función simula el envío de un correo electrónico imprimiendo los detalles en la consola."
   ]
  },
  {
   "cell_type": "code",
   "execution_count": null,
   "metadata": {},
   "outputs": [],
   "source": [
    "def send_email(\n",
    "    to: Annotated[str, Field(description=\"Email recipient\")],\n",
    "    subject: Annotated[str, Field(description=\"Email subject\")],\n",
    "    body: Annotated[str, Field(description=\"Email body\")]):\n",
    "        print(\"\\n--- Simulated Email ---\")\n",
    "        print(\"To:\", to)\n",
    "        print(\"Subject:\", subject)\n",
    "        print(\"Body:\")\n",
    "        print(body)\n",
    "        print(\"----------------------\")\n",
    "\n",
    "print(\"Function 'send_email' defined\")"
   ]
  },
  {
   "cell_type": "markdown",
   "metadata": {},
   "source": [
    "### Crear y ejecutar el agente\n",
    "\n",
    "Ahora, creamos un `ChatAgent` con instrucciones específicas y le proporcionamos la función `send_email` como herramienta. Luego, le enviamos los datos de gastos junto con un prompt."
   ]
  },
  {
   "cell_type": "code",
   "execution_count": null,
   "metadata": {},
   "outputs": [],
   "source": [
    "async def process_expenses(prompt, data):\n",
    "    print(\"Creating expenses agent...\")\n",
    "    async with (\n",
    "        AzureCliCredential() as credential,\n",
    "        ChatAgent(\n",
    "            chat_client=AzureAIAgentClient(async_credential=credential),\n",
    "            name=\"expenses_agent\",\n",
    "            instructions=\"\"\"\n",
    "            You are an AI assistant for company expense reports.\n",
    "            When a user sends expense data and requests a claim, use the tool to send an email to finance@example.com\n",
    "            with subject 'Expense Report - Aerospace Operations' and body containing:\n",
    "            - Itemized expenses\n",
    "            - Technical purpose\n",
    "            - Total amount in EUR\n",
    "            Then confirm to user that report has been sent.\n",
    "            \"\"\",\n",
    "            tools=send_email,\n",
    "        ) as agent,\n",
    "    ):\n",
    "        try:\n",
    "            print(f\"Processing expense data for: {prompt}\")\n",
    "            prompt_messages = [f\"{prompt}: {data}\"]\n",
    "            print(\"Running agent...\")\n",
    "            response = await agent.run(prompt_messages)\n",
    "            print(\"\\nAgent response:\")\n",
    "            print(f\"{response}\")\n",
    "        except Exception as e:\n",
    "            print(f\"Error occurred: {e}\")\n",
    "\n",
    "# Execute processing\n",
    "print(\"Starting expense processing...\")\n",
    "user_prompt = \"Send aerospace operations expense report\"\n",
    "await process_expenses(user_prompt, expenses_data)\n",
    "print(\"Expense processing completed\")"
   ]
  }
 ],
 "metadata": {
  "kernelspec": {
   "display_name": "Python 3",
   "language": "python",
   "name": "python3"
  },
  "language_info": {
   "name": "python",
   "version": "3.10.0"
  }
 },
 "nbformat": 4,
 "nbformat_minor": 2
}
