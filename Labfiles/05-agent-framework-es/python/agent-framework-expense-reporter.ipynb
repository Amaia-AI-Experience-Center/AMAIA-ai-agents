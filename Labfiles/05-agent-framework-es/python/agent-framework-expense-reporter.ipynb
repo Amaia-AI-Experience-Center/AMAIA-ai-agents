{
 "cells": [
  {
   "cell_type": "markdown",
   "metadata": {},
   "source": [
    "# Agente de Informes de Gastos con Microsoft Agent Framework\n",
    "\n",
    "## Descripción\n",
    "\n",
    "En este ejercicio, crearás un **agente de informes de gastos empresariales** utilizando Microsoft Agent Framework. El agente procesará datos de gastos relacionados con operaciones aeroespaciales y enviará informes automáticos al departamento de finanzas."
   ]
  },
  {
   "cell_type": "markdown",
   "metadata": {},
   "source": [
    "### Cargar librerías"
   ]
  },
  {
   "cell_type": "code",
   "execution_count": null,
   "metadata": {},
   "outputs": [],
   "source": [
    "import os\n",
    "import asyncio\n",
    "from pathlib import Path\n",
    "from agent_framework import AgentThread, ChatAgent\n",
    "from agent_framework.openai import OpenAIChatClient\n",
    "from pydantic import Field\n",
    "from typing import Annotated\n",
    "\n",
    "# GitHub Models client configuration\n",
    "MODEL_NAME = os.getenv(\"GITHUB_MODEL\", \"openai/gpt-4o\")"
   ]
  },
  {
   "cell_type": "markdown",
   "metadata": {},
   "source": [
    "### Visualizar los datos de gastos"
   ]
  },
  {
   "cell_type": "code",
   "execution_count": null,
   "metadata": {},
   "outputs": [],
   "source": [
    "script_dir = Path.cwd()\n",
    "file_path = script_dir / 'data.txt'\n",
    "with file_path.open('r') as file:\n",
    "    expenses_data = file.read()\n",
    "    print(\"Datos de gastos:\")\n",
    "    print(expenses_data)"
   ]
  },
  {
   "cell_type": "markdown",
   "metadata": {},
   "source": [
    "### Definir una función de herramienta (Tool Function)\n",
    "\n",
    "Creamos una función `send_email` que el agente podrá utilizar. Esta función simula el envío de un correo electrónico imprimiendo los detalles en la consola."
   ]
  },
  {
   "cell_type": "code",
   "execution_count": null,
   "metadata": {},
   "outputs": [],
   "source": [
    "def send_email(\n",
    "    to: Annotated[str, Field(description=\"Email recipient\")],\n",
    "    subject: Annotated[str, Field(description=\"Email subject\")],\n",
    "    body: Annotated[str, Field(description=\"Email body\")]):\n",
    "        print(\"\\n--- Simulated Email ---\")\n",
    "        print(\"To:\", to)\n",
    "        print(\"Subject:\", subject)\n",
    "        print(\"Body:\")\n",
    "        print(body)\n",
    "        print(\"----------------------\")\n",
    "\n",
    "print(\"Function 'send_email' defined\")"
   ]
  },
  {
   "cell_type": "markdown",
   "metadata": {},
   "source": [
    "### Crear y ejecutar el agente\n",
    "\n",
    "Ahora, creamos un `ChatAgent` con instrucciones específicas y le proporcionamos la función `send_email` como herramienta. Luego, le enviamos los datos de gastos junto con un prompt."
   ]
  },
  {
   "cell_type": "code",
   "execution_count": null,
   "metadata": {},
   "outputs": [],
   "source": [
    "async def process_expenses(prompt, data):\n",
    "    print(\"Creating expenses agent...\")\n",
    "    \n",
    "    # GitHub Models client configuration\n",
    "    client = OpenAIChatClient(\n",
    "        model_id=MODEL_NAME,\n",
    "        api_key=os.environ[\"GITHUB_TOKEN\"],\n",
    "        base_url=\"https://models.github.ai/inference\"\n",
    "    )\n",
    "    \n",
    "    async with ChatAgent(\n",
    "        chat_client=client,\n",
    "        name=\"expenses_agent\",\n",
    "        instructions=\"\"\"\n",
    "\t\tEres un asistente de IA para informes de gastos de operaciones aeroespaciales de la empresa.\n",
    "\t\tCuando un usuario envíe datos de gastos relacionados con operaciones aeroespaciales (viajes a plantas de fabricación, visitas de ingeniería,\n",
    "\t\tcertificaciones de calidad, materiales técnicos o consultoría) y solicite una reclamación, usa la función plug-in para enviar un correo a finance@example.com\n",
    "\t\tcon el asunto 'Expense Report - Aerospace Operations' y un cuerpo que contenga:\n",
    "\t\t- Gastos desglosados por destino/planta\n",
    "\t\t- Propósito técnico o referencia de proyecto\n",
    "\t\t- Importe total en EUR\n",
    "\t\tLuego confirma al usuario que el informe de gastos ha sido enviado.\n",
    "        \"\"\",\n",
    "        tools=send_email,\n",
    "    ) as agent:\n",
    "        try:\n",
    "            print(f\"Processing expense data for: {prompt}\")\n",
    "            prompt_messages = [f\"{prompt}: {data}\"]\n",
    "            print(\"Running agent...\")\n",
    "            response = await agent.run(prompt_messages)\n",
    "            print(\"\\nAgent response:\")\n",
    "            print(f\"{response}\")\n",
    "        except Exception as e:\n",
    "            print(f\"Error occurred: {e}\")\n",
    "\n",
    "# Execute processing\n",
    "print(\"Starting expense processing...\")\n",
    "user_prompt = \"Enviar informe de gastos de operaciones aeroespaciales\"\n",
    "await process_expenses(user_prompt, expenses_data)\n",
    "print(\"Expense processing completed\")"
   ]
  }
 ],
 "metadata": {
  "kernelspec": {
   "display_name": "Python 3",
   "language": "python",
   "name": "python3"
  },
  "language_info": {
   "codemirror_mode": {
    "name": "ipython",
    "version": 3
   },
   "file_extension": ".py",
   "mimetype": "text/x-python",
   "name": "python",
   "nbconvert_exporter": "python",
   "pygments_lexer": "ipython3",
   "version": "3.12.1"
  }
 },
 "nbformat": 4,
 "nbformat_minor": 2
}
