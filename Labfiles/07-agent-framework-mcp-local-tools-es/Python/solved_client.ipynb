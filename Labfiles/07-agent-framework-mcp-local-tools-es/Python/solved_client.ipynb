{
 "cells": [
  {
   "cell_type": "markdown",
   "metadata": {},
   "source": [
    "# Módulo 7: Usar herramientas MCP locales en un agente de IA\n",
    "\n",
    "En este ejercicio, crearás un servidor MCP local que expone herramientas para consultar el inventario y las ventas de componentes aeroespaciales. Luego, un agente cliente se conectará a este servidor para responder preguntas."
   ]
  },
  {
   "cell_type": "markdown",
   "metadata": {},
   "source": [
    "### Crear el servidor MCP local\n",
    "\n",
    "Primero, creamos un archivo `server.py` que define las herramientas `get_inventory_levels` y `get_weekly_sales` usando `FastMCP`. Este archivo se ejecutará como un proceso separado."
   ]
  },
  {
   "cell_type": "markdown",
   "metadata": {},
   "source": []
  },
  {
   "cell_type": "code",
   "execution_count": null,
   "metadata": {},
   "outputs": [],
   "source": [
    "server_code = \"\"\"\n",
    "from mcp.server.fastmcp import FastMCP\n",
    "\n",
    "mcp = FastMCP(\"AeroInventory\")\n",
    "\n",
    "@mcp.tool()\n",
    "def get_inventory_levels() -> dict:\n",
    "    \\\"\\\"\\\"Devuelve el inventario actual de componentes aero clave en las plantas.\\\"\\\"\\\"\n",
    "    return {\n",
    "        \"Álabe de turbina (AP)\": 6,\n",
    "        \"Carcasa del compresor\": 8,\n",
    "        \"Conjunto de sello\": 28,\n",
    "        \"Álabe guía de tobera\": 5,\n",
    "        \"Carcasa del rodamiento\": 12,\n",
    "        \"Eje\": 9,\n",
    "        \"Difusor\": 30,\n",
    "        \"Revestimiento del combustor\": 3,\n",
    "        \"Bastidor frontal\": 17,\n",
    "        \"Carcasa del ventilador\": 45,\n",
    "    }\n",
    "\n",
    "@mcp.tool()\n",
    "def get_weekly_sales() -> dict:\n",
    "    \\\"\\\"\\\"Devuelve el consumo semanal por órdenes de trabajo de la última semana.\\\"\\\"\\\"\n",
    "    return {\n",
    "        \"Álabe de turbina (AP)\": 22,\n",
    "        \"Carcasa del compresor\": 18,\n",
    "        \"Conjunto de sello\": 3,\n",
    "        \"Álabe guía de tobera\": 2,\n",
    "        \"Carcasa del rodamiento\": 14,\n",
    "        \"Eje\": 19,\n",
    "        \"Difusor\": 4,\n",
    "        \"Revestimiento del combustor\": 1,\n",
    "        \"Bastidor frontal\": 13,\n",
    "        \"Carcasa del ventilador\": 17,\n",
    "    }\n",
    "\n",
    "if __name__ == \"__main__\":\n",
    "    mcp.run()\n",
    "\"\"\"\n",
    "\n",
    "print(\"Creating local MCP server file...\")\n",
    "with open(\"local_MCP_server.py\", \"w\") as f:\n",
    "    f.write(server_code)\n",
    "print(\"Server file 'local_MCP_server.py' created successfully\")\n"
   ]
  },
  {
   "cell_type": "markdown",
   "metadata": {},
   "source": [
    "### Cargar librerías y variables de entorno para el cliente"
   ]
  },
  {
   "cell_type": "code",
   "execution_count": null,
   "metadata": {},
   "outputs": [],
   "source": [
    "import asyncio\n",
    "import os\n",
    "from dotenv import load_dotenv, find_dotenv\n",
    "from agent_framework import ChatAgent, MCPStdioTool\n",
    "from agent_framework.azure import AzureAIAgentClient\n",
    "from azure.identity.aio import AzureCliCredential\n",
    "\n",
    "load_dotenv(find_dotenv(usecwd=True))"
   ]
  },
  {
   "cell_type": "markdown",
   "metadata": {},
   "source": [
    "### Crear y ejecutar el agente cliente\n",
    "\n",
    "El `ChatAgent` se conecta al servidor MCP local usando `MCPStdioTool`, que inicia el proceso `python server.py`. Luego, podemos hacerle preguntas al agente sobre el inventario."
   ]
  },
  {
   "cell_type": "code",
   "execution_count": null,
   "metadata": {},
   "outputs": [],
   "source": [
    "async def query_inventory(prompt):\n",
    "    print(\"Starting local MCP server...\")\n",
    "    async with (\n",
    "        AzureCliCredential() as credential,\n",
    "        MCPStdioTool(\n",
    "            name=\"aeroinventory\",\n",
    "            command=\"python\",\n",
    "            args=[\"local_MCP_server.py\"],  # Use file created in previous cell\n",
    "        ) as mcp_server,\n",
    "        ChatAgent(\n",
    "            chat_client=AzureAIAgentClient(async_credential=credential),\n",
    "            name=\"InventoryAgent\",\n",
    "            instructions=(\n",
    "                \"Eres un asistente de gestión de inventario aeronáutico que puede consultar niveles de stock y ventas semanales.\"\n",
    "            ),\n",
    "        ) as agent,\n",
    "    ):\n",
    "        print(\"Local MCP server connected\")\n",
    "        print(f\"Running inventory query: {prompt}\")\n",
    "        result = await agent.run(prompt, tools=mcp_server)\n",
    "        print(\"Query result:\")\n",
    "        print(result)\n"
   ]
  },
  {
   "cell_type": "code",
   "execution_count": null,
   "metadata": {},
   "outputs": [],
   "source": [
    "\n",
    "# Enter your question here\n",
    "print(\"Starting inventory analysis...\")\n",
    "user_prompt = \"Lista los componentes con inventario < 15 y su consumo semanal.\"\n",
    "await query_inventory(user_prompt)\n",
    "print(\"Inventory analysis completed\")"
   ]
  },
  {
   "cell_type": "code",
   "execution_count": null,
   "metadata": {},
   "outputs": [],
   "source": [
    "\n",
    "# Enter your question here\n",
    "print(\"Starting inventory analysis...\")\n",
    "user_prompt = \"¿Qué piezas podrían agotarse esta semana considerando el consumo semanal y el inventario actual?\"\n",
    "await query_inventory(user_prompt)\n",
    "print(\"Inventory analysis completed\")"
   ]
  }
 ],
 "metadata": {
  "kernelspec": {
   "display_name": "Python 3",
   "language": "python",
   "name": "python3"
  },
  "language_info": {
   "codemirror_mode": {
    "name": "ipython",
    "version": 3
   },
   "file_extension": ".py",
   "mimetype": "text/x-python",
   "name": "python",
   "nbconvert_exporter": "python",
   "pygments_lexer": "ipython3",
   "version": "3.12.1"
  }
 },
 "nbformat": 4,
 "nbformat_minor": 2
}
