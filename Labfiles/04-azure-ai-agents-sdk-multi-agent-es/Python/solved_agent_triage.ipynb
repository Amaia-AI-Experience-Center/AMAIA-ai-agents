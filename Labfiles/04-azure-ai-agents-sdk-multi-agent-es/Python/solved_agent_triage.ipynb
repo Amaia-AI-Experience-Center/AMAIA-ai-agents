{
 "cells": [
  {
   "cell_type": "markdown",
   "metadata": {},
   "source": [
    "# Módulo 4: Desarrollar una solución multi-agente\n",
    "\n",
    "En este ejercicio, crearás una solución multi-agente para el triaje de tickets de soporte técnico. Un agente coordinador utilizará otros agentes especializados para evaluar la prioridad, asignar el equipo y estimar el esfuerzo."
   ]
  },
  {
   "cell_type": "markdown",
   "metadata": {},
   "source": [
    "### Cargar librerías y variables de entorno"
   ]
  },
  {
   "cell_type": "code",
   "execution_count": null,
   "metadata": {},
   "outputs": [],
   "source": [
    "import os\n",
    "from dotenv import load_dotenv, find_dotenv\n",
    "\n",
    "from azure.ai.agents import AgentsClient\n",
    "from azure.ai.agents.models import ConnectedAgentTool, MessageRole, ListSortOrder\n",
    "from azure.identity import DefaultAzureCredential\n",
    "\n",
    "load_dotenv(find_dotenv(usecwd=True))\n",
    "project_endpoint = os.getenv(\"PROJECT_ENDPOINT\")\n",
    "model_deployment = os.getenv(\"MODEL_DEPLOYMENT_NAME\")"
   ]
  },
  {
   "cell_type": "markdown",
   "metadata": {},
   "source": [
    "### Conectar al Cliente de Agentes (Agent Client)"
   ]
  },
  {
   "cell_type": "code",
   "execution_count": null,
   "metadata": {},
   "outputs": [],
   "source": [
    "print(\"Connecting to Azure AI Agents Client...\")\n",
    "agents_client = AgentsClient(\n",
    "    endpoint=project_endpoint,\n",
    "    credential=DefaultAzureCredential(\n",
    "        exclude_environment_credential=True,\n",
    "        exclude_managed_identity_credential=True,\n",
    "    )\n",
    ")\n",
    "print(\"Agents client connected successfully\")"
   ]
  },
  {
   "cell_type": "markdown",
   "metadata": {},
   "source": [
    "### Crear Agentes Especializados\n",
    "\n",
    "Primero, creamos los tres agentes especializados: uno para priorizar tickets, otro para asignar equipos y un tercero para estimar el esfuerzo."
   ]
  },
  {
   "cell_type": "code",
   "execution_count": null,
   "metadata": {},
   "outputs": [],
   "source": [
    "# Priority evaluation agent\n",
    "priority_agent_name = \"priority_agent\"\n",
    "priority_agent_instructions = \"\"\"\n",
    "Evaluate the urgency of technical tickets for aerospace operations.\n",
    "Respond with: Critical, High, Medium, or Low with brief explanation.\n",
    "\"\"\"\n",
    "print(\"Creating priority agent...\")\n",
    "priority_agent = agents_client.create_agent(\n",
    "    model=model_deployment,\n",
    "    name=priority_agent_name,\n",
    "    instructions=priority_agent_instructions,\n",
    ")\n",
    "print(f\"Priority agent created (id: {priority_agent.id})\")\n",
    "\n",
    "# Team assignment agent\n",
    "team_agent_name = \"team_agent\"\n",
    "team_agent_instructions = \"\"\"\n",
    "Determine which department should handle each ticket: Engineering, Manufacturing, Quality Control, Supply Chain, or Maintenance.\n",
    "Base your decision on the technical content. Return department name and brief explanation.\n",
    "\"\"\"\n",
    "print(\"Creating team assignment agent...\")\n",
    "team_agent = agents_client.create_agent(\n",
    "    model=model_deployment,\n",
    "    name=team_agent_name,\n",
    "    instructions=team_agent_instructions,\n",
    ")\n",
    "print(f\"Team assignment agent created (id: {team_agent.id})\")\n",
    "\n",
    "# Effort estimation agent\n",
    "effort_agent_name = \"effort_agent\"\n",
    "effort_agent_instructions = \"\"\"\n",
    "Estimate required effort: Small, Medium, Large, or Extra Large.\n",
    "Consider aerospace complexity. Return effort level with technical justification.\n",
    "\"\"\"\n",
    "print(\"Creating effort estimation agent...\")\n",
    "effort_agent = agents_client.create_agent(\n",
    "    model=model_deployment,\n",
    "    name=effort_agent_name,\n",
    "    instructions=effort_agent_instructions,\n",
    ")\n",
    "print(f\"Effort estimation agent created (id: {effort_agent.id})\")"
   ]
  },
  {
   "cell_type": "markdown",
   "metadata": {},
   "source": [
    "### Crear Herramientas de Agentes Conectados (Connected Agent Tools)\n",
    "\n",
    "Para que el agente coordinador pueda invocar a los agentes especializados, creamos herramientas para cada uno."
   ]
  },
  {
   "cell_type": "code",
   "execution_count": null,
   "metadata": {},
   "outputs": [],
   "source": [
    "print(\"Creating connected agent tools...\")\n",
    "priority_agent_tool = ConnectedAgentTool(\n",
    "    id=priority_agent.id, name=priority_agent_name, description=\"Evaluate ticket priority\"\n",
    ")\n",
    "team_agent_tool = ConnectedAgentTool(\n",
    "    id=team_agent.id, name=team_agent_name, description=\"Determine which team should handle ticket\"\n",
    ")\n",
    "effort_agent_tool = ConnectedAgentTool(\n",
    "    id=effort_agent.id, name=effort_agent_name, description=\"Estimate effort required to complete ticket\"\n",
    ")\n",
    "print(\"Connected agent tools created\")"
   ]
  },
  {
   "cell_type": "markdown",
   "metadata": {},
   "source": [
    "### Crear el Agente Coordinador de Triaje\n",
    "\n",
    "Este agente orquestará el trabajo de los agentes especializados."
   ]
  },
  {
   "cell_type": "code",
   "execution_count": null,
   "metadata": {},
   "outputs": [],
   "source": [
    "triage_agent_name = \"triage-agent\"\n",
    "triage_agent_instructions = \"\"\"\n",
    "You are the technical triage coordinator. Analyze each ticket and use specialist agents to determine:\n",
    "1. Priority level\n",
    "2. Department assignment\n",
    "3. Effort estimation\n",
    "Provide comprehensive triage summary.\n",
    "\"\"\"\n",
    "print(\"Creating triage coordinator agent...\")\n",
    "triage_agent = agents_client.create_agent(\n",
    "    model=model_deployment,\n",
    "    name=triage_agent_name,\n",
    "    instructions=triage_agent_instructions,\n",
    "    tools=[\n",
    "        priority_agent_tool.definitions[0],\n",
    "        team_agent_tool.definitions[0],\n",
    "        effort_agent_tool.definitions[0],\n",
    "    ],\n",
    ")\n",
    "print(f\"Triage coordinator agent created (id: {triage_agent.id})\")"
   ]
  },
  {
   "cell_type": "markdown",
   "metadata": {},
   "source": [
    "### Usar los agentes para el triaje de un ticket\n",
    "\n",
    "Introduce un problema de soporte en el `prompt` y ejecuta la celda para que los agentes lo procesen."
   ]
  },
  {
   "cell_type": "code",
   "execution_count": null,
   "metadata": {},
   "outputs": [],
   "source": [
    "print(\"Creating thread...\")\n",
    "thread = agents_client.threads.create()\n",
    "print(f\"Thread created (id: {thread.id})\")\n",
    "\n",
    "# Enter support issue here\n",
    "prompt = \"Out-of-specification dimensional tolerances detected on high-pressure turbine blades. Batch Q1-2024-TB-156 affected.\"\n",
    "\n",
    "print(f\"Sending prompt: '{prompt}'\")\n",
    "message = agents_client.messages.create(\n",
    "    thread_id=thread.id,\n",
    "    role=MessageRole.USER,\n",
    "    content=prompt,\n",
    ")\n",
    "print(f\"User message created (thread: {thread.id})\")\n",
    "\n",
    "print(\"\\nProcessing triage... please wait.\")\n",
    "run = agents_client.runs.create_and_process(thread_id=thread.id, agent_id=triage_agent.id)\n",
    "print(f\"Triage run completed with status: {run.status}\")\n",
    "\n",
    "if run.status == \"failed\":\n",
    "    print(f\"Run failed: {run.last_error}\")\n",
    "else:\n",
    "    print(\"Retrieving triage results...\")\n",
    "    messages = agents_client.messages.list(thread_id=thread.id, order=ListSortOrder.ASCENDING)\n",
    "    for message in messages:\n",
    "        if message.text_messages:\n",
    "            last_msg = message.text_messages[-1]\n",
    "            print(f\"{message.role}:\\n{last_msg.text.value}\\n\")"
   ]
  },
  {
   "cell_type": "markdown",
   "metadata": {},
   "source": [
    "### Limpieza\n",
    "\n",
    "Finalmente, eliminamos todos los agentes creados."
   ]
  },
  {
   "cell_type": "code",
   "execution_count": null,
   "metadata": {},
   "outputs": [],
   "source": [
    "print(\"Cleaning up agents...\")\n",
    "print(f\"Deleting triage agent (id: {triage_agent.id})...\")\n",
    "agents_client.delete_agent(triage_agent.id)\n",
    "print(\"Triage agent deleted\")\n",
    "\n",
    "print(f\"Deleting priority agent (id: {priority_agent.id})...\")\n",
    "agents_client.delete_agent(priority_agent.id)\n",
    "print(\"Priority agent deleted\")\n",
    "\n",
    "print(f\"Deleting team assignment agent (id: {team_agent.id})...\")\n",
    "agents_client.delete_agent(team_agent.id)\n",
    "print(\"Team assignment agent deleted\")\n",
    "\n",
    "print(f\"Deleting effort estimation agent (id: {effort_agent.id})...\")\n",
    "agents_client.delete_agent(effort_agent.id)\n",
    "print(\"Effort estimation agent deleted\")\n",
    "\n",
    "print(\"All agents cleaned up successfully\")"
   ]
  }
 ],
 "metadata": {
  "kernelspec": {
   "display_name": "Python 3",
   "language": "python",
   "name": "python3"
  },
  "language_info": {
   "name": "python",
   "version": "3.10.0"
  }
 },
 "nbformat": 4,
 "nbformat_minor": 2
}
