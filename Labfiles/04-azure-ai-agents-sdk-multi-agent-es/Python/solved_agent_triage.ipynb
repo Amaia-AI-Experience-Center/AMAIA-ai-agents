{
 "cells": [
  {
   "cell_type": "markdown",
   "metadata": {},
   "source": [
    "# Sistema de Triaje Multi-Agente para Tickets Técnicos\n",
    "\n",
    "## Descripción\n",
    "\n",
    "En este ejercicio, diseñarás un **sistema multi-agente que automatiza el triaje de tickets de soporte técnico** para operaciones aeroespaciales. Un agente coordinador (Triage Agent) orquestará tres agentes especializados que, trabajando en paralelo, evaluarán:\n",
    "\n",
    "1. **Prioridad** (Critical, High, Medium, Low)\n",
    "2. **Asignación de departamento** (Ingeniería, Manufactura, Control de Calidad, Cadena de Suministro, Mantenimiento)\n",
    "3. **Estimación de esfuerzo** (Small, Medium, Large, Extra Large)\n",
    "\n",
    "### Arquitectura\n",
    "```\n",
    "Ticket técnico\n",
    "    ↓\n",
    "[Triage Coordinator Agent]\n",
    "    ├→ [Priority Agent] → Evalúa urgencia\n",
    "    ├→ [Team Agent] → Asigna departamento\n",
    "    └→ [Effort Agent] → Estima recursos\n",
    "    ↓\n",
    "Resumen integral de triaje para equipos\n",
    "```\n",
    "\n",
    "### Conceptos Clave\n",
    "- **Connected Agent Tools**: Permite que agentes invoquen otros agentes\n",
    "- **Multi-agente Architecture**: Escalable y reutilizable para diferentes tipos de tickets\n",
    "- **Contexto de seguridad aeroespacial**: Evaluación basada en impacto en aeronavegabilidad"
   ]
  },
  {
   "cell_type": "markdown",
   "metadata": {},
   "source": [
    "### Cargar librerías y variables de entorno"
   ]
  },
  {
   "cell_type": "code",
   "execution_count": null,
   "metadata": {},
   "outputs": [],
   "source": [
    "import os\n",
    "from dotenv import load_dotenv, find_dotenv\n",
    "\n",
    "from azure.ai.agents import AgentsClient\n",
    "from azure.ai.agents.models import ConnectedAgentTool, MessageRole, ListSortOrder\n",
    "from azure.identity import DefaultAzureCredential\n",
    "\n",
    "load_dotenv(find_dotenv(usecwd=True))\n",
    "project_endpoint = os.getenv(\"PROJECT_ENDPOINT\")\n",
    "model_deployment = os.getenv(\"MODEL_DEPLOYMENT_NAME\")"
   ]
  },
  {
   "cell_type": "markdown",
   "metadata": {},
   "source": [
    "### Conectar al Cliente de Agentes (Agent Client)"
   ]
  },
  {
   "cell_type": "code",
   "execution_count": null,
   "metadata": {},
   "outputs": [],
   "source": [
    "print(\"Connecting to Azure AI Agents Client...\")\n",
    "agents_client = AgentsClient(\n",
    "    endpoint=project_endpoint,\n",
    "    credential=DefaultAzureCredential(\n",
    "        exclude_environment_credential=True,\n",
    "        exclude_managed_identity_credential=True,\n",
    "    )\n",
    ")\n",
    "print(\"Agents client connected successfully\")"
   ]
  },
  {
   "cell_type": "markdown",
   "metadata": {},
   "source": [
    "### Crear Agentes Especializados\n",
    "\n",
    "Primero, creamos los tres agentes especializados: uno para priorizar tickets, otro para asignar equipos y un tercero para estimar el esfuerzo."
   ]
  },
  {
   "cell_type": "code",
   "execution_count": null,
   "metadata": {},
   "outputs": [],
   "source": [
    "# Priority evaluation agent\n",
    "priority_agent_name = \"priority_agent\"\n",
    "priority_agent_instructions = \"\"\"\n",
    "Evalúa la urgencia de un ticket técnico para operaciones aeroespaciales según su descripción.\n",
    "\n",
    "    Responde con uno de los siguientes niveles:\n",
    "    - Critical: Problemas en componentes críticos de seguridad, paro de línea de producción, o fallos de calidad que afecten la aeronavegabilidad\n",
    "    - High: Retrasos de producción, defectos que impactan plazos de entrega, o problemas con impacto en clientes\n",
    "    - Medium: Incidencias gestionables pero sensibles al tiempo, preocupaciones menores de calidad, o necesidades de optimización de procesos\n",
    "    - Low: Actualizaciones de documentación, mejoras no urgentes, o cuestiones cosméticas\n",
    "\n",
    "Devuelve solo el nivel de urgencia y una explicación muy breve enfocada en el impacto aeroespacial.\n",
    "\"\"\"\n",
    "print(\"Creating priority agent...\")\n",
    "priority_agent = agents_client.create_agent(\n",
    "    model=model_deployment,\n",
    "    name=priority_agent_name,\n",
    "    instructions=priority_agent_instructions,\n",
    ")\n",
    "print(f\"Priority agent created (id: {priority_agent.id})\")\n",
    "\n",
    "# Team assignment agent\n",
    "team_agent_name = \"team_agent\"\n",
    "team_agent_instructions = \"\"\"\n",
    "Decide qué departamento debe gestionar cada ticket técnico.\n",
    "\n",
    "    Elige entre los siguientes departamentos:\n",
    "    - Engineering: Problemas de diseño, especificaciones de componentes, análisis de rendimiento, I+D\n",
    "    - Manufacturing: Procesos de producción, incidencias en líneas de ensamblaje, utillaje, fabricación\n",
    "    - Quality Control: Inspecciones, pruebas, no conformidades, certificaciones, cumplimiento de normas\n",
    "    - Supply Chain: Aprovisionamiento de materiales, búsqueda de componentes, inventario, logística\n",
    "    - Maintenance: Mantenimiento de equipos, infraestructura de planta, mantenimiento preventivo\n",
    "\n",
    "Basa tu respuesta en el contenido técnico del ticket. Devuelve el nombre del departamento y una explicación muy breve.\n",
    "\"\"\"\n",
    "print(\"Creating team assignment agent...\")\n",
    "team_agent = agents_client.create_agent(\n",
    "    model=model_deployment,\n",
    "    name=team_agent_name,\n",
    "    instructions=team_agent_instructions,\n",
    ")\n",
    "print(f\"Team assignment agent created (id: {team_agent.id})\")\n",
    "\n",
    "# Effort estimation agent\n",
    "effort_agent_name = \"effort_agent\"\n",
    "effort_agent_instructions = \"\"\"\n",
    "Estima el esfuerzo de ingeniería requerido para cada ticket técnico aeroespacial.\n",
    "\n",
    "    Usa la siguiente escala:\n",
    "    - Small: Se resuelve en 1-2 días (ajustes menores, documentación, correcciones simples)\n",
    "    - Medium: 3-5 días de trabajo (análisis de componentes, ajustes de proceso, pruebas estándar)\n",
    "    - Large: 1-2 semanas (análisis de causa raíz, rediseño, requisitos de certificación)\n",
    "    - Extra Large: Varias semanas o esfuerzo transversal (rediseño mayor, cumplimiento regulatorio, coordinación con cliente)\n",
    "\n",
    "Considera factores de complejidad aeroespacial: requisitos de certificación, criticidad de seguridad e impacto en producción.\n",
    "Devuelve el nivel de esfuerzo y una breve justificación técnica.\n",
    "\"\"\"\n",
    "print(\"Creating effort estimation agent...\")\n",
    "effort_agent = agents_client.create_agent(\n",
    "    model=model_deployment,\n",
    "    name=effort_agent_name,\n",
    "    instructions=effort_agent_instructions,\n",
    ")\n",
    "print(f\"Effort estimation agent created (id: {effort_agent.id})\")"
   ]
  },
  {
   "cell_type": "markdown",
   "metadata": {},
   "source": [
    "### Crear Herramientas de Agentes Conectados (Connected Agent Tools)\n",
    "\n",
    "Para que el agente coordinador pueda invocar a los agentes especializados, creamos herramientas para cada uno."
   ]
  },
  {
   "cell_type": "code",
   "execution_count": null,
   "metadata": {},
   "outputs": [],
   "source": [
    "print(\"Creating connected agent tools...\")\n",
    "priority_agent_tool = ConnectedAgentTool(\n",
    "    id=priority_agent.id, name=priority_agent_name, description=\"Evaluate ticket priority\"\n",
    ")\n",
    "team_agent_tool = ConnectedAgentTool(\n",
    "    id=team_agent.id, name=team_agent_name, description=\"Determine which team should handle ticket\"\n",
    ")\n",
    "effort_agent_tool = ConnectedAgentTool(\n",
    "    id=effort_agent.id, name=effort_agent_name, description=\"Estimate effort required to complete ticket\"\n",
    ")\n",
    "print(\"Connected agent tools created\")"
   ]
  },
  {
   "cell_type": "markdown",
   "metadata": {},
   "source": [
    "### Crear el Agente Coordinador de Triaje\n",
    "\n",
    "Este agente orquestará el trabajo de los agentes especializados."
   ]
  },
  {
   "cell_type": "code",
   "execution_count": null,
   "metadata": {},
   "outputs": [],
   "source": [
    "triage_agent_name = \"triage-agent\"\n",
    "triage_agent_instructions = \"\"\"\n",
    "Eres el coordinador de triaje técnico para operaciones aeroespaciales.\n",
    "Analiza cada ticket técnico entrante y usa los agentes especialistas conectados para determinar:\n",
    "    1. Nivel de prioridad según seguridad aeroespacial e impacto en producción\n",
    "    2. Asignación al departamento adecuado\n",
    "    3. Estimación del esfuerzo de ingeniería considerando la complejidad aeroespacial\n",
    "\n",
    "Proporciona un resumen de triaje integral para equipos de fabricación e ingeniería.\n",
    "\"\"\"\n",
    "print(\"Creating triage coordinator agent...\")\n",
    "triage_agent = agents_client.create_agent(\n",
    "    model=model_deployment,\n",
    "    name=triage_agent_name,\n",
    "    instructions=triage_agent_instructions,\n",
    "    tools=[\n",
    "        priority_agent_tool.definitions[0],\n",
    "        team_agent_tool.definitions[0],\n",
    "        effort_agent_tool.definitions[0],\n",
    "    ],\n",
    ")\n",
    "print(f\"Triage coordinator agent created (id: {triage_agent.id})\")"
   ]
  },
  {
   "cell_type": "markdown",
   "metadata": {},
   "source": [
    "### Usar los agentes para el triaje de un ticket\n",
    "\n",
    "Introduce un problema de soporte en el `prompt` y ejecuta la celda para que los agentes lo procesen."
   ]
  },
  {
   "cell_type": "code",
   "execution_count": null,
   "metadata": {},
   "outputs": [],
   "source": [
    "print(\"Creating thread...\")\n",
    "thread = agents_client.threads.create()\n",
    "print(f\"Thread created (id: {thread.id})\")\n",
    "\n",
    "# Enter support issue here\n",
    "prompt = \"Se detectaron tolerancias dimensionales fuera de especificación en álabes de turbina de alta presión. Lote Q1-2024-TB-156 afectado. 23 unidades potencialmente no conformes requieren inspección metalúrgica completa antes de entrega a cliente.\"\n",
    "\n",
    "print(f\"Sending prompt: '{prompt}'\")\n",
    "message = agents_client.messages.create(\n",
    "    thread_id=thread.id,\n",
    "    role=MessageRole.USER,\n",
    "    content=prompt,\n",
    ")\n",
    "\n",
    "print(\"\\nProcessing triage... please wait.\")\n",
    "run = agents_client.runs.create_and_process(thread_id=thread.id, agent_id=triage_agent.id)\n",
    "print(f\"Triage run completed with status: {run.status}\")\n",
    "\n",
    "if run.status == \"failed\":\n",
    "    print(f\"Run failed: {run.last_error}\")\n",
    "else:\n",
    "    print(\"Retrieving triage results...\")\n",
    "    messages = agents_client.messages.list(thread_id=thread.id, order=ListSortOrder.ASCENDING)\n",
    "    for message in messages:\n",
    "        if message.text_messages:\n",
    "            last_msg = message.text_messages[-1]\n",
    "            print(f\"{message.role}:\\n{last_msg.text.value}\\n\")"
   ]
  },
  {
   "cell_type": "markdown",
   "metadata": {},
   "source": [
    "### Limpieza\n",
    "\n",
    "Finalmente, eliminamos todos los agentes creados."
   ]
  },
  {
   "cell_type": "code",
   "execution_count": null,
   "metadata": {},
   "outputs": [],
   "source": [
    "print(\"Cleaning up agents...\")\n",
    "print(f\"Deleting triage agent (id: {triage_agent.id})...\")\n",
    "agents_client.delete_agent(triage_agent.id)\n",
    "print(\"Triage agent deleted\")\n",
    "\n",
    "print(f\"Deleting priority agent (id: {priority_agent.id})...\")\n",
    "agents_client.delete_agent(priority_agent.id)\n",
    "print(\"Priority agent deleted\")\n",
    "\n",
    "print(f\"Deleting team assignment agent (id: {team_agent.id})...\")\n",
    "agents_client.delete_agent(team_agent.id)\n",
    "print(\"Team assignment agent deleted\")\n",
    "\n",
    "print(f\"Deleting effort estimation agent (id: {effort_agent.id})...\")\n",
    "agents_client.delete_agent(effort_agent.id)\n",
    "print(\"Effort estimation agent deleted\")\n",
    "\n",
    "print(\"All agents cleaned up successfully\")"
   ]
  }
 ],
 "metadata": {
  "kernelspec": {
   "display_name": "Python 3",
   "language": "python",
   "name": "python3"
  },
  "language_info": {
   "codemirror_mode": {
    "name": "ipython",
    "version": 3
   },
   "file_extension": ".py",
   "mimetype": "text/x-python",
   "name": "python",
   "nbconvert_exporter": "python",
   "pygments_lexer": "ipython3",
   "version": "3.12.1"
  }
 },
 "nbformat": 4,
 "nbformat_minor": 2
}
