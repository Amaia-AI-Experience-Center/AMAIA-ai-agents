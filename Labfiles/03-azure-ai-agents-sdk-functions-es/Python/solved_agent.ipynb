{
 "cells": [
  {
   "cell_type": "markdown",
   "metadata": {},
   "source": [
    "# Módulo 3: Usar una función personalizada en un agente de IA\n",
    "\n",
    "En este ejercicio, construirás un agente de soporte técnico que puede usar funciones personalizadas para recopilar detalles sobre problemas técnicos y generar tickets de soporte."
   ]
  },
  {
   "cell_type": "markdown",
   "metadata": {},
   "source": [
    "### Definir una función personalizada\n",
    "\n",
    "Primero, definimos la función `submit_support_ticket` que el agente utilizará. Esta función genera un número de ticket, guarda los detalles en un archivo de texto y devuelve un mensaje de confirmación."
   ]
  },
  {
   "cell_type": "code",
   "execution_count": null,
   "metadata": {},
   "outputs": [],
   "source": [
    "import json\n",
    "from pathlib import Path\n",
    "import uuid\n",
    "from typing import Any, Callable, Set\n",
    "\n",
    "def submit_support_ticket(email_address: str, description: str) -> str:\n",
    "    # Use current notebook directory\n",
    "    script_dir = Path.cwd()\n",
    "    ticket_number = str(uuid.uuid4()).replace('-', '')[:6]\n",
    "    file_name = f\"ticket-{ticket_number}.txt\"\n",
    "    file_path = script_dir / file_name\n",
    "    text = (\n",
    "        f\"Ticket de soporte: {ticket_number}\\n\"\n",
    "        f\"Enviado por: {email_address}\\n\"\n",
    "        f\"Descripción:\\n{description}\"\n",
    "    )\n",
    "    file_path.write_text(text)\n",
    "\n",
    "    message_json = json.dumps({\n",
    "        \"message\": f\"Ticket de soporte {ticket_number} enviado. El archivo del ticket se guardó como {file_name}\"\n",
    "    })\n",
    "    return message_json\n",
    "\n",
    "# Define set of functions that agent can call\n",
    "user_functions: Set[Callable[..., Any]] = {\n",
    "    submit_support_ticket,\n",
    "}\n",
    "print(\"Function 'submit_support_ticket' defined\")"
   ]
  },
  {
   "cell_type": "markdown",
   "metadata": {},
   "source": [
    "### Cargar librerías y variables de entorno"
   ]
  },
  {
   "cell_type": "code",
   "execution_count": null,
   "metadata": {},
   "outputs": [],
   "source": [
    "import os\n",
    "from dotenv import load_dotenv, find_dotenv\n",
    "\n",
    "# Import required classes from SDK\n",
    "from azure.identity import DefaultAzureCredential\n",
    "from azure.ai.agents import AgentsClient\n",
    "from azure.ai.agents.models import FunctionTool, ToolSet, ListSortOrder, MessageRole\n",
    "\n",
    "# Load environment variables\n",
    "load_dotenv(find_dotenv(usecwd=True))\n",
    "project_endpoint = os.getenv(\"PROJECT_ENDPOINT\")\n",
    "model_deployment = os.getenv(\"MODEL_DEPLOYMENT_NAME\")"
   ]
  },
  {
   "cell_type": "markdown",
   "metadata": {},
   "source": [
    "### Conectar al Cliente de Agentes (Agent Client)"
   ]
  },
  {
   "cell_type": "code",
   "execution_count": null,
   "metadata": {},
   "outputs": [],
   "source": [
    "print(\"Connecting to Azure AI Agents Client...\")\n",
    "agent_client = AgentsClient(\n",
    "    endpoint=project_endpoint,\n",
    "    credential=DefaultAzureCredential(\n",
    "        exclude_environment_credential=True,\n",
    "        exclude_managed_identity_credential=True\n",
    "    )\n",
    ")\n",
    "print(\"Agent client connected successfully\")"
   ]
  },
  {
   "cell_type": "markdown",
   "metadata": {},
   "source": [
    "### Definir un agente que puede usar las funciones personalizadas\n",
    "\n",
    "Creamos un `ToolSet` con nuestra función personalizada y luego creamos un agente con instrucciones sobre cómo usarla."
   ]
  },
  {
   "cell_type": "code",
   "execution_count": null,
   "metadata": {},
   "outputs": [],
   "source": [
    "print(\"Setting up function tools...\")\n",
    "functions = FunctionTool(user_functions)\n",
    "toolset = ToolSet()\n",
    "toolset.add(functions)\n",
    "agent_client.enable_auto_function_calls(toolset)\n",
    "print(\"Function tools configured\")\n",
    "\n",
    "print(\"Creating agent...\")\n",
    "agent = agent_client.create_agent(\n",
    "    model=model_deployment,\n",
    "    name=\"technical-support-agent\",\n",
    "    instructions=\"\"\"\n",
    "    Eres un agente de soporte técnico de la empresa especializado en fabricación de componentes aeroespaciales y sistemas de motores.\n",
    "    Cuando un usuario reporte un problema técnico (defectos de componentes, problemas en procesos de fabricación, incidencias de control de calidad, averías de equipos o dudas de ingeniería), recopila su correo corporativo y una descripción detallada que incluya:\n",
    "    - Componente o sistema afectado (p. ej., álabes de turbina, compresor, cámara de combustión)\n",
    "    - Ubicación/instalación (España, Reino Unido, México, EE. UU., Malta, India)\n",
    "    - Severidad del problema e impacto en producción\n",
    "    Luego envía un ticket de soporte usando la función disponible.\n",
    "    Si se guarda un archivo, informa al usuario el nombre del archivo y el número de ticket.\n",
    "    \"\"\",\n",
    "    toolset=toolset,\n",
    ")\n",
    "print(f\"Agent created: {agent.name} (id: {agent.id})\")\n",
    "\n",
    "print(\"Creating thread...\")\n",
    "thread = agent_client.threads.create()\n",
    "print(f\"Thread created (id: {thread.id})\")"
   ]
  },
  {
   "cell_type": "markdown",
   "metadata": {},
   "source": [
    "### Enviar un prompt al agente y procesar la respuesta\n",
    "\n",
    "Ahora puedes interactuar con el agente. El agente te pedirá la información necesaria para crear el ticket de soporte."
   ]
  },
  {
   "cell_type": "code",
   "execution_count": null,
   "metadata": {},
   "outputs": [],
   "source": [
    "# Modifica este prompt con tu problema\n",
    "user_prompt = \"Tengo un problema técnico urgente con un componente de turbina en nuestra planta de España.\"\n",
    "\n",
    "print(f\"Sending prompt: '{user_prompt}'\")\n",
    "message = agent_client.messages.create(\n",
    "    thread_id=thread.id,\n",
    "    role=\"user\",\n",
    "    content=user_prompt,\n",
    ")\n",
    "print(f\"User message created (thread: {thread.id})\")\n",
    "\n",
    "print(\"Processing run...\")\n",
    "run = agent_client.runs.create_and_process(thread_id=thread.id, agent_id=agent.id)\n",
    "print(f\"Run completed with status: {run.status}\")\n",
    "\n",
    "if run.status == \"failed\":\n",
    "    print(f\"Run failed: {run.last_error}\")\n",
    "else:\n",
    "    print(\"Retrieving agent response...\")\n",
    "    last_msg = agent_client.messages.get_last_message_text_by_role(\n",
    "        thread_id=thread.id,\n",
    "        role=MessageRole.AGENT,\n",
    "    )\n",
    "    if last_msg:\n",
    "        print(\"Agent response:\")\n",
    "        print(f\"{last_msg.text.value}\")"
   ]
  },
  {
   "cell_type": "markdown",
   "metadata": {},
   "source": [
    "### Continuar la conversación\n",
    "\n",
    "Proporciona la información que el agente te solicita. Ejecuta la siguiente celda después de cada respuesta del agente."
   ]
  },
  {
   "cell_type": "code",
   "execution_count": null,
   "metadata": {},
   "outputs": [],
   "source": [
    "# Reply to agent here\n",
    "user_prompt = \"Mi correo es engineer.production@example.com. Se han detectado microgrietas en las palas de la turbina de alta presión. Lote 2024-Q1-TB-087. Impacto potencial en 15 unidades. No tengo mas informacion.\"\n",
    "\n",
    "print(f\"Sending prompt: '{user_prompt}'\")\n",
    "message = agent_client.messages.create(\n",
    "    thread_id=thread.id,\n",
    "    role=\"user\",\n",
    "    content=user_prompt,\n",
    ")\n",
    "print(f\"User message created (thread: {thread.id})\")\n",
    "\n",
    "print(\"Processing run...\")\n",
    "run = agent_client.runs.create_and_process(thread_id=thread.id, agent_id=agent.id)\n",
    "print(f\"Run completed with status: {run.status}\")\n",
    "\n",
    "if run.status == \"failed\":\n",
    "    print(f\"Run failed: {run.last_error}\")\n",
    "else:\n",
    "    print(\"Retrieving agent response...\")\n",
    "    last_msg = agent_client.messages.get_last_message_text_by_role(\n",
    "        thread_id=thread.id,\n",
    "        role=MessageRole.AGENT,\n",
    "    )\n",
    "    if last_msg:\n",
    "        print(\"Agent response:\")\n",
    "        print(f\"{last_msg.text.value}\")"
   ]
  },
  {
   "cell_type": "markdown",
   "metadata": {},
   "source": [
    "### Obtener el historial de la conversación"
   ]
  },
  {
   "cell_type": "code",
   "execution_count": null,
   "metadata": {},
   "outputs": [],
   "source": [
    "print(\"\\nConversation history:\\n\")\n",
    "messages = agent_client.messages.list(thread_id=thread.id, order=ListSortOrder.ASCENDING)\n",
    "for message in messages:\n",
    "    if message.text_messages:\n",
    "        last_msg = message.text_messages[-1]\n",
    "        print(f\"{message.role}: {last_msg.text.value}\\n\")"
   ]
  },
  {
   "cell_type": "markdown",
   "metadata": {},
   "source": [
    "### Limpieza"
   ]
  },
  {
   "cell_type": "code",
   "execution_count": null,
   "metadata": {},
   "outputs": [],
   "source": [
    "print(f\"Deleting agent (id: {agent.id})...\")\n",
    "agent_client.delete_agent(agent.id)\n",
    "print(\"Agent deleted successfully\")"
   ]
  }
 ],
 "metadata": {
  "kernelspec": {
   "display_name": "Python 3",
   "language": "python",
   "name": "python3"
  },
  "language_info": {
   "codemirror_mode": {
    "name": "ipython",
    "version": 3
   },
   "file_extension": ".py",
   "mimetype": "text/x-python",
   "name": "python",
   "nbconvert_exporter": "python",
   "pygments_lexer": "ipython3",
   "version": "3.12.1"
  }
 },
 "nbformat": 4,
 "nbformat_minor": 2
}
