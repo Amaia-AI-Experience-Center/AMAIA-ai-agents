{
 "cells": [
  {
   "cell_type": "markdown",
   "metadata": {},
   "source": [
    "# Orquestación Secuencial para Workflow de Ingeniería Aeroespacial\n",
    "\n",
    "## Descripción\n",
    "\n",
    "En este ejercicio, dominarás el **patrón de orquestación secuencial** de Microsoft Agent Framework para crear un workflow colaborativo. Tres agentes especializados procesarán secuencialmente un problema técnico: extracción de requisitos, evaluación de riesgos y planificación de acciones.\n",
    "\n",
    "### Arquitectura Secuencial\n",
    "```\n",
    "Entrada Técnica\n",
    "    ↓\n",
    "[Requirements Extractor]\n",
    "    ↓\n",
    "[Risk Assessor]\n",
    "    ↓\n",
    "[Action Planner]\n",
    "    ↓\n",
    "Plan de Acción Priorizado\n",
    "```\n",
    "\n",
    "### Conceptos Clave\n",
    "- **SequentialBuilder**: Constructor de workflows secuenciales\n",
    "- **WorkflowOutputEvent**: Captura salidas de cada etapa\n",
    "- **Contexto persistente**: Cada agente ve el trabajo de los anteriores"
   ]
  },
  {
   "cell_type": "markdown",
   "metadata": {},
   "source": [
    "### Cargar librerías y variables de entorno"
   ]
  },
  {
   "cell_type": "code",
   "execution_count": null,
   "metadata": {},
   "outputs": [],
   "source": [
    "import asyncio\n",
    "from dotenv import load_dotenv, find_dotenv\n",
    "from typing import cast\n",
    "from agent_framework import ChatMessage, Role, SequentialBuilder, WorkflowOutputEvent\n",
    "from agent_framework.azure import AzureAIAgentClient\n",
    "from azure.identity import AzureCliCredential\n",
    "\n",
    "load_dotenv(find_dotenv(usecwd=True))"
   ]
  },
  {
   "cell_type": "markdown",
   "metadata": {},
   "source": [
    "### Definir las Instrucciones de los Agentes\n",
    "\n",
    "Cada agente tiene un rol específico en el flujo de trabajo: extractor de requisitos, evaluador de riesgos y planificador de acciones."
   ]
  },
  {
   "cell_type": "code",
   "execution_count": null,
   "metadata": {},
   "outputs": [],
   "source": [
    "extractor_instructions=\"\"\"\n",
    "Eres un Ingeniero de Sistemas Aeronáuticos. Extrae de la entrada:\n",
    "    - requisitos técnicos explícitos e implícitos\n",
    "    - subsistemas implicados (motores, aviónica, estructura, control de vuelo, hidráulico, combustible)\n",
    "    - restricciones regulatorias (EASA/FAA), métricas clave y supuestos\n",
    "Devuelve un resumen técnico claro y objetivo en 1-2 frases.\n",
    "\"\"\"\n",
    "\n",
    "risk_instructions=\"\"\"\n",
    "Eres un Ingeniero de Aeronavegabilidad y Seguridad.\n",
    "Evalúa riesgos técnicos derivados del resumen: seguridad, cumplimiento (CS-25/Part 25), performance y certificación.\n",
    "Prioriza la criticidad (Alta/Media/Baja) y señala datos faltantes.\n",
    "Devuelve 1 frase con la criticidad y 1 con riesgos principales.\n",
    "\"\"\"\n",
    "\n",
    "planner_instructions=\"\"\"\n",
    "Eres un Planificador Técnico Aeroespacial.\n",
    "Propón la siguiente acción concreta en 1-2 frases: p.ej., análisis FMEA, campaña NDT, simulación CFD/FEA,\n",
    "emisión de Service Bulletin, prueba en banco, actualización de MM/IPC, coordinación con Supply Chain o MRO.\n",
    "Incluye responsable sugerido (Equipo Motor/Estructuras/Aviónica/Flight Controls/QA).\"\"\""
   ]
  },
  {
   "cell_type": "markdown",
   "metadata": {},
   "source": [
    "### Crear y ejecutar la orquestación secuencial"
   ]
  },
  {
   "cell_type": "code",
   "execution_count": null,
   "metadata": {},
   "outputs": [],
   "source": [
    "async def process_technical_case(prompt):\n",
    "    credential = AzureCliCredential()\n",
    "    async with AzureAIAgentClient(async_credential=credential) as chat_client:\n",
    "        extractor = chat_client.create_agent(\n",
    "            instructions=extractor_instructions,\n",
    "            name=\"requirements_extractor\",\n",
    "        )\n",
    "        print(\"[1] Requirements extractor created\")\n",
    "        \n",
    "        risk = chat_client.create_agent(\n",
    "            instructions=risk_instructions,\n",
    "            name=\"risk_assessor\",\n",
    "        )\n",
    "        print(\"[2] Risk assessor created\")\n",
    "        \n",
    "        planner = chat_client.create_agent(\n",
    "            instructions=planner_instructions,\n",
    "            name=\"action_planner\",\n",
    "        )\n",
    "        print(\"[3] Action planner created\")\n",
    "\n",
    "        workflow = SequentialBuilder().participants([extractor, risk, planner]).build()\n",
    "\n",
    "        outputs: list[list[ChatMessage]] = []\n",
    "        print(f\"\\nProcessing technical case: {prompt}\")\n",
    "        async for event in workflow.run_stream(f\"Technical input: {prompt}\"):\n",
    "            if isinstance(event, WorkflowOutputEvent):\n",
    "                outputs.append(cast(list[ChatMessage], event.data))\n",
    "\n",
    "        if outputs:\n",
    "            print(\"\\nOrchestration results:\")\n",
    "            for i, msg in enumerate(outputs[-1], start=1):\n",
    "                if (msg.author_name is None):\n",
    "                    continue\n",
    "                name = msg.author_name\n",
    "                print(f\"{'=' * 20} {name} {'=' * 20}\\n{msg.text}\\n\")\n",
    "\n",
    "# Enter technical case here\n",
    "print(\"Starting technical case processing...\")\n",
    "user_prompt = \"Incremento de vibraciones en fase de ascenso, canal de aviónica reporta fallos intermitentes ARINC 429 en ADAHRS; sin registros de fallo duro. ¿Plan?\"\n",
    "await process_technical_case(user_prompt)"
   ]
  },
  {
   "cell_type": "code",
   "execution_count": null,
   "metadata": {},
   "outputs": [],
   "source": [
    "# Enter technical case here\n",
    "print(\"Starting technical case processing...\")\n",
    "user_prompt = \"Solicitud de aumento de MTOW requiere refuerzo en sección 36; impacto en performance y certificación CS-25/Part 25. Propón camino de validación.\"\n",
    "await process_technical_case(user_prompt)"
   ]
  },
  {
   "cell_type": "code",
   "execution_count": null,
   "metadata": {},
   "outputs": [],
   "source": [
    "# Enter technical case here\n",
    "print(\"Starting technical case processing...\")\n",
    "user_prompt = \"Solicito trazabilidad digital completa (CoC, FAIR, lotes, heat treatment) integrada con PLM/MES para carcasas de compresor del programa UltraFan.\"\n",
    "await process_technical_case(user_prompt)"
   ]
  }
 ],
 "metadata": {
  "kernelspec": {
   "display_name": "Python 3",
   "language": "python",
   "name": "python3"
  },
  "language_info": {
   "codemirror_mode": {
    "name": "ipython",
    "version": 3
   },
   "file_extension": ".py",
   "mimetype": "text/x-python",
   "name": "python",
   "nbconvert_exporter": "python",
   "pygments_lexer": "ipython3",
   "version": "3.12.1"
  }
 },
 "nbformat": 4,
 "nbformat_minor": 2
}
