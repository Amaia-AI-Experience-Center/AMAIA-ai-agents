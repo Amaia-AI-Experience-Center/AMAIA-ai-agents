{
 "cells": [
  {
   "cell_type": "markdown",
   "metadata": {},
   "source": [
    "# Módulo 8: Orquestación Secuencial de Agentes\n",
    "\n",
    "En este ejercicio, utilizarás el patrón de orquestación secuencial para crear un flujo de trabajo con tres agentes especializados que colaboran para analizar un problema técnico y proponer un plan de acción."
   ]
  },
  {
   "cell_type": "markdown",
   "metadata": {},
   "source": [
    "### Cargar librerías y variables de entorno"
   ]
  },
  {
   "cell_type": "code",
   "execution_count": null,
   "metadata": {},
   "outputs": [],
   "source": [
    "import asyncio\n",
    "from dotenv import load_dotenv, find_dotenv\n",
    "from typing import cast\n",
    "from agent_framework import ChatMessage, Role, SequentialBuilder, WorkflowOutputEvent\n",
    "from agent_framework.azure import AzureAIAgentClient\n",
    "from azure.identity import AzureCliCredential\n",
    "\n",
    "load_dotenv(find_dotenv(usecwd=True))"
   ]
  },
  {
   "cell_type": "markdown",
   "metadata": {},
   "source": [
    "### Definir las Instrucciones de los Agentes\n",
    "\n",
    "Cada agente tiene un rol específico en el flujo de trabajo: extractor de requisitos, evaluador de riesgos y planificador de acciones."
   ]
  },
  {
   "cell_type": "code",
   "execution_count": null,
   "metadata": {},
   "outputs": [],
   "source": [
    "extractor_instructions=\"\"\"\n",
    "You are an Aerospace Systems Engineer. Extract technical requirements, subsystems, and constraints.\n",
    "Return clear and objective technical summary.\n",
    "\"\"\"\n",
    "\n",
    "risk_instructions=\"\"\"\n",
    "You are an Aviation Safety Engineer. Evaluate technical risks, prioritize criticality, and flag missing data.\n",
    "\"\"\"\n",
    "\n",
    "planner_instructions=\"\"\"\n",
    "You are an Aerospace Technical Planner. Propose concrete next action and suggested owner.\n",
    "\"\"\""
   ]
  },
  {
   "cell_type": "markdown",
   "metadata": {},
   "source": [
    "### Crear y ejecutar la orquestación secuencial"
   ]
  },
  {
   "cell_type": "code",
   "execution_count": null,
   "metadata": {},
   "outputs": [],
   "source": [
    "async def process_technical_case(prompt):\n",
    "    print(\"Starting sequential agent orchestration...\")\n",
    "    credential = AzureCliCredential()\n",
    "    async with AzureAIAgentClient(async_credential=credential) as chat_client:\n",
    "        print(\"Creating requirements extractor agent...\")\n",
    "        extractor = chat_client.create_agent(\n",
    "            instructions=extractor_instructions,\n",
    "            name=\"requirements_extractor\",\n",
    "        )\n",
    "        print(\"Requirements extractor created\")\n",
    "        \n",
    "        print(\"Creating risk assessor agent...\")\n",
    "        risk = chat_client.create_agent(\n",
    "            instructions=risk_instructions,\n",
    "            name=\"risk_assessor\",\n",
    "        )\n",
    "        print(\"Risk assessor created\")\n",
    "        \n",
    "        print(\"Creating action planner agent...\")\n",
    "        planner = chat_client.create_agent(\n",
    "            instructions=planner_instructions,\n",
    "            name=\"action_planner\",\n",
    "        )\n",
    "        print(\"Action planner created\")\n",
    "\n",
    "        print(\"Building sequential workflow...\")\n",
    "        workflow = SequentialBuilder().participants([extractor, risk, planner]).build()\n",
    "        print(\"Workflow built\")\n",
    "\n",
    "        outputs: list[list[ChatMessage]] = []\n",
    "        print(f\"Processing technical case: {prompt}\")\n",
    "        async for event in workflow.run_stream(f\"Technical input: {prompt}\"):\n",
    "            if isinstance(event, WorkflowOutputEvent):\n",
    "                outputs.append(cast(list[ChatMessage], event.data))\n",
    "\n",
    "        if outputs:\n",
    "            print(\"\\nOrchestration results:\")\n",
    "            for i, msg in enumerate(outputs[-1], start=1):\n",
    "                name = msg.author_name or (\"assistant\" if msg.role == Role.ASSISTANT else \"user\")\n",
    "                print(f\"{'=' * 20} {name} {'=' * 20}\\n{msg.text}\\n\")\n",
    "        print(\"Orchestration completed\")\n",
    "\n",
    "# Enter technical case here\n",
    "print(\"Starting technical case processing...\")\n",
    "user_prompt = \"Premature wear on main shaft bearings in A320 fleet after 2,000 cycles; suspected FOD contamination.\"\n",
    "await process_technical_case(user_prompt)\n",
    "print(\"Technical case processing finished\")"
   ]
  },
  {
   "cell_type": "code",
   "execution_count": null,
   "metadata": {},
   "outputs": [],
   "source": [
    "# Enter technical case here\n",
    "print(\"Starting technical case processing...\")\n",
    "user_prompt = \"Incremento de vibraciones en fase de ascenso, canal de aviónica reporta fallos intermitentes ARINC 429 en ADAHRS; sin registros de fallo duro. ¿Plan?\"\n",
    "await process_technical_case(user_prompt)\n",
    "print(\"Technical case processing finished\")"
   ]
  },
  {
   "cell_type": "code",
   "execution_count": null,
   "metadata": {},
   "outputs": [],
   "source": [
    "# Enter technical case here\n",
    "print(\"Starting technical case processing...\")\n",
    "user_prompt = \"Solicito trazabilidad digital completa (CoC, FAIR, lotes, heat treatment) integrada con PLM/MES para carcasas de compresor del programa UltraFan.\"\n",
    "await process_technical_case(user_prompt)\n",
    "print(\"Technical case processing finished\")"
   ]
  }
 ],
 "metadata": {
  "kernelspec": {
   "display_name": "Python 3",
   "language": "python",
   "name": "python3"
  },
  "language_info": {
   "name": "python",
   "version": "3.10.0"
  }
 },
 "nbformat": 4,
 "nbformat_minor": 2
}
