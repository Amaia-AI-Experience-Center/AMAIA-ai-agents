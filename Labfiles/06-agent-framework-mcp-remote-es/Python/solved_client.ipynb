{
 "cells": [
  {
   "cell_type": "markdown",
   "metadata": {},
   "source": [
    "# Módulo 6: Usar herramientas MCP remotas en un agente de IA\n",
    "\n",
    "En este ejercicio, crearás un agente que utiliza el servidor MCP remoto de Microsoft Learn (`https://learn.microsoft.com/api/mcp`) para responder preguntas técnicas, limitando sus respuestas a la documentación de Microsoft Learn."
   ]
  },
  {
   "cell_type": "markdown",
   "metadata": {},
   "source": [
    "### Cargar librerías y variables de entorno"
   ]
  },
  {
   "cell_type": "code",
   "execution_count": null,
   "metadata": {},
   "outputs": [],
   "source": [
    "import asyncio\n",
    "import os\n",
    "from dotenv import load_dotenv, find_dotenv\n",
    "from agent_framework import ChatAgent, MCPStreamableHTTPTool\n",
    "from agent_framework.azure import AzureAIAgentClient\n",
    "from azure.identity.aio import AzureCliCredential\n",
    "\n",
    "load_dotenv(find_dotenv(usecwd=True))"
   ]
  },
  {
   "cell_type": "markdown",
   "metadata": {},
   "source": [
    "### Crear y ejecutar el agente con herramienta MCP remota\n",
    "\n",
    "Configuramos el `ChatAgent` con instrucciones para usar exclusivamente el servidor MCP de Microsoft Learn. La herramienta `MCPStreamableHTTPTool` se conecta a la API remota."
   ]
  },
  {
   "cell_type": "code",
   "execution_count": null,
   "metadata": {},
   "outputs": [],
   "source": [
    "async def query_aero_docs(prompt):\n",
    "    print(\"Connecting to remote MCP server...\")\n",
    "    async with (\n",
    "        AzureCliCredential() as credential,\n",
    "        MCPStreamableHTTPTool(\n",
    "            name=\"mslearn\",\n",
    "            url=\"https://learn.microsoft.com/api/mcp\",\n",
    "            headers={\"Authorization\": \"Bearer your-token\"},  # Example token\n",
    "        ) as mcp_server,\n",
    "        ChatAgent(\n",
    "            chat_client=AzureAIAgentClient(async_credential=credential),\n",
    "            name=\"AeroDocsAgent\",\n",
    "            instructions=(\n",
    "                \"\"\"\n",
    "                You are an AI agent specialized in aerospace engineering and aeronautical manufacturing.\n",
    "                Limit your responses EXCLUSIVELY to Microsoft Learn (Microsoft/Azure) documentation\n",
    "                accessible through the Microsoft Learn MCP server.\n",
    "                \"\"\"\n",
    "            ),\n",
    "        ) as agent,\n",
    "    ):\n",
    "        print(\"Remote MCP server connected\")\n",
    "        print(f\"Running query: {prompt}\")\n",
    "        result = await agent.run(prompt, tools=mcp_server)\n",
    "        print(\"Query result:\")\n",
    "        print(result)\n"
   ]
  },
  {
   "cell_type": "code",
   "execution_count": null,
   "metadata": {},
   "outputs": [],
   "source": [
    "\n",
    "# Enter your question here\n",
    "user_prompt = \"Cómo configurar Azure AI Search para indexar documentación técnica (PDF) y usarlo con Azure OpenAI en un patrón RAG para consultas internas de ingeniería.\"\n",
    "await query_aero_docs(user_prompt)"
   ]
  },
  {
   "cell_type": "code",
   "execution_count": null,
   "metadata": {},
   "outputs": [],
   "source": [
    "# Enter your question here\n",
    "user_prompt = \"Guía paso a paso para crear un workspace de Azure Machine Learning, entrenar un modelo de mantenimiento predictivo con datos de sensores y desplegar un endpoint en línea.\"\n",
    "await query_aero_docs(user_prompt)"
   ]
  },
  {
   "cell_type": "code",
   "execution_count": null,
   "metadata": {},
   "outputs": [],
   "source": [
    "# Enter your question here\n",
    "user_prompt = \"Diseña una arquitectura en Azure para capturar y procesar telemetría de bancos de prueba de motores aeronáuticos usando Azure IoT Hub, Event Hubs y Stream Analytics. Incluye servicios y pasos de configuración.\"\n",
    "await query_aero_docs(user_prompt)"
   ]
  }
 ],
 "metadata": {
  "kernelspec": {
   "display_name": "Python 3",
   "language": "python",
   "name": "python3"
  },
  "language_info": {
   "name": "python",
   "version": "3.10.0"
  }
 },
 "nbformat": 4,
 "nbformat_minor": 2
}
