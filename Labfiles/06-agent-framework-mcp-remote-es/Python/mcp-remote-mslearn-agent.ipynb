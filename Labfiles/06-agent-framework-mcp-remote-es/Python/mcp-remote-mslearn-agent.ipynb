{
 "cells": [
  {
   "cell_type": "markdown",
   "metadata": {},
   "source": [
    "# Agente Consultor de Microsoft Learn vía MCP Remoto\n",
    "\n",
    "## Descripción\n",
    "\n",
    "En este ejercicio, desarrollarás un **agente especializado en ingeniería aeroespacial** que utiliza el protocolo MCP (Model Context Protocol) remoto para acceder a documentación técnica de Microsoft Learn y Azure.\n",
    "\n",
    "### Arquitectura MCP Remoto\n",
    "```\n",
    "Pregunta técnica\n",
    "    ↓\n",
    "[AeroDocsAgent]\n",
    "    ↓\n",
    "[MCPStreamableHTTPTool]\n",
    "    ↓\n",
    "https://learn.microsoft.com/api/mcp\n",
    "    ↓\n",
    "Respuesta basada en documentación Microsoft\n",
    "```"
   ]
  },
  {
   "cell_type": "markdown",
   "metadata": {},
   "source": [
    "### Cargar librerías y variables de entorno"
   ]
  },
  {
   "cell_type": "code",
   "execution_count": null,
   "metadata": {},
   "outputs": [],
   "source": [
    "import asyncio\n",
    "import os\n",
    "from dotenv import load_dotenv, find_dotenv\n",
    "from agent_framework import ChatAgent, MCPStreamableHTTPTool\n",
    "from agent_framework.azure import AzureAIAgentClient\n",
    "from azure.identity.aio import AzureCliCredential\n",
    "\n",
    "load_dotenv(find_dotenv(usecwd=True))"
   ]
  },
  {
   "cell_type": "markdown",
   "metadata": {},
   "source": [
    "### Crear y ejecutar el agente con herramienta MCP remota\n",
    "\n",
    "Configuramos el `ChatAgent` con instrucciones para usar exclusivamente el servidor MCP de Microsoft Learn. La herramienta `MCPStreamableHTTPTool` se conecta a la API remota."
   ]
  },
  {
   "cell_type": "code",
   "execution_count": null,
   "metadata": {},
   "outputs": [],
   "source": [
    "async def query_aero_docs(prompt):\n",
    "    print(\"Connecting to remote MCP server...\")\n",
    "    async with (\n",
    "        AzureCliCredential() as credential,\n",
    "        MCPStreamableHTTPTool(\n",
    "            name=\"mslearn\",\n",
    "            url=\"https://learn.microsoft.com/api/mcp\",\n",
    "            headers={\"Authorization\": \"Bearer your-token\"},  # Example token\n",
    "        ) as mcp_server,\n",
    "        ChatAgent(\n",
    "            chat_client=AzureAIAgentClient(async_credential=credential),\n",
    "            name=\"AeroDocsAgent\",\n",
    "            instructions=(\n",
    "                \"\"\"\n",
    "                Eres un agente de IA especializado en ingeniería aeroespacial y fabricación aeronáutica.\n",
    "                Limita tus respuestas EXCLUSIVAMENTE a la documentación de Microsoft Learn (Microsoft/Azure)\n",
    "                accesible a través del servidor MCP de Microsoft Learn.\n",
    "                Explica los conceptos con precisión, proporciona fórmulas cuando apliquen y sugiere pasos prácticos.\n",
    "                Si la pregunta es ambigua, solicita aclaraciones breves. Responde en español por defecto.\n",
    "                \"\"\"\n",
    "            ),\n",
    "        ) as agent,\n",
    "    ):\n",
    "        print(f\"Running query: {prompt}\")\n",
    "        result = await agent.run(prompt, tools=mcp_server)\n",
    "        print(\"Query result:\")\n",
    "        print(result)\n"
   ]
  },
  {
   "cell_type": "code",
   "execution_count": null,
   "metadata": {},
   "outputs": [],
   "source": [
    "# Enter your question here\n",
    "print(\"Starting MCP remote query...\")\n",
    "user_prompt = \"Cómo configurar Azure AI Search para indexar documentación técnica (PDF) y usarlo con Azure OpenAI en un patrón RAG para consultas internas de ingeniería.\"\n",
    "await query_aero_docs(user_prompt)"
   ]
  },
  {
   "cell_type": "code",
   "execution_count": null,
   "metadata": {},
   "outputs": [],
   "source": [
    "# Enter your question here\n",
    "print(\"Starting MCP remote query...\")\n",
    "user_prompt = \"Guía paso a paso para crear un workspace de Azure Machine Learning, entrenar un modelo de mantenimiento predictivo con datos de sensores y desplegar un endpoint en línea.\"\n",
    "await query_aero_docs(user_prompt)"
   ]
  }
 ],
 "metadata": {
  "kernelspec": {
   "display_name": "Python 3",
   "language": "python",
   "name": "python3"
  },
  "language_info": {
   "codemirror_mode": {
    "name": "ipython",
    "version": 3
   },
   "file_extension": ".py",
   "mimetype": "text/x-python",
   "name": "python",
   "nbconvert_exporter": "python",
   "pygments_lexer": "ipython3",
   "version": "3.12.1"
  }
 },
 "nbformat": 4,
 "nbformat_minor": 2
}
