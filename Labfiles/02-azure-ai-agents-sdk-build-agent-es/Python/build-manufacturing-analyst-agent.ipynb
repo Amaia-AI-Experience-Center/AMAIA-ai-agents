{
 "cells": [
  {
   "cell_type": "markdown",
   "metadata": {},
   "source": [
    "# Agente de Análisis de Costos de Fabricación Aeroespacial\n",
    "\n",
    "## Descripción\n",
    "\n",
    "En este ejercicio, crearás un **agente de IA especializado en análisis de datos de fabricación** utilizando el SDK de Agentes de IA de Azure. El agente analizará datos de costos de fabricación de componentes aeroespaciales, calculará métricas estadísticas, identificará tendencias y proporcionará recomendaciones de optimización.\n",
    "\n",
    "### Casos de Uso\n",
    "- **Análisis estadístico**: Calcular métricas de costo (promedio, desviación estándar, tendencias)\n",
    "- **Visualización**: Crear gráficos para identificar componentes más costosos\n",
    "- **Optimización**: Recomendaciones basadas en datos para mejorar la eficiencia de fabricación\n",
    "\n",
    "### Herramientas Utilizadas\n",
    "- **Code Interpreter**: El agente generará dinámicamente código Python para análisis estadístico\n",
    "- **Azure AI Agents SDK**: Para crear y gestionar el agente"
   ]
  },
  {
   "cell_type": "markdown",
   "metadata": {},
   "source": [
    "## Prerrequisitos\n",
    "\n",
    "Asegúrate de que tu archivo `.env` en la raíz del repositorio contiene las variables `PROJECT_ENDPOINT` y `MODEL_DEPLOYMENT_NAME` correctas. Este archivo se reutiliza en todos los laboratorios."
   ]
  },
  {
   "cell_type": "markdown",
   "metadata": {},
   "source": [
    "### Cargar librerías y variables de entorno"
   ]
  },
  {
   "cell_type": "code",
   "execution_count": null,
   "metadata": {},
   "outputs": [],
   "source": [
    "import os\n",
    "from dotenv import load_dotenv, find_dotenv\n",
    "from pathlib import Path\n",
    "\n",
    "# Import required classes from Azure AI Agents SDK\n",
    "from azure.identity import DefaultAzureCredential\n",
    "from azure.ai.agents import AgentsClient\n",
    "from azure.ai.agents.models import FilePurpose, CodeInterpreterTool, ListSortOrder, MessageRole\n",
    "\n",
    "# Load environment variables from .env file\n",
    "load_dotenv(find_dotenv(usecwd=True))\n",
    "project_endpoint = os.getenv(\"PROJECT_ENDPOINT\")\n",
    "model_deployment = os.getenv(\"MODEL_DEPLOYMENT_NAME\")"
   ]
  },
  {
   "cell_type": "markdown",
   "metadata": {},
   "source": [
    "### Visualizar los datos a analizar"
   ]
  },
  {
   "cell_type": "code",
   "execution_count": null,
   "metadata": {},
   "outputs": [],
   "source": [
    "script_dir = Path.cwd()  # Use current notebook directory\n",
    "file_path = script_dir / 'data.txt'\n",
    "\n",
    "with file_path.open('r') as file:\n",
    "    data = file.read()\n",
    "    print(\"Data to analyze:\")\n",
    "    print(data)"
   ]
  },
  {
   "cell_type": "markdown",
   "metadata": {},
   "source": [
    "### Conectar al Cliente de Agentes (Agent Client)\n",
    "\n",
    "Ahora, nos conectaremos al proyecto de Azure AI Foundry usando las credenciales de Azure."
   ]
  },
  {
   "cell_type": "code",
   "execution_count": null,
   "metadata": {},
   "outputs": [],
   "source": [
    "print(\"Connecting to Azure AI Agents Client...\")\n",
    "agent_client = AgentsClient(\n",
    "    endpoint=project_endpoint,\n",
    "    credential=DefaultAzureCredential(\n",
    "        exclude_environment_credential=True,\n",
    "        exclude_managed_identity_credential=True\n",
    "    )\n",
    ")\n",
    "print(\"Agent client connected successfully\")"
   ]
  },
  {
   "cell_type": "markdown",
   "metadata": {},
   "source": [
    "### Subir el archivo de datos y crear una herramienta de Intérprete de Código (CodeInterpreterTool)\n",
    "\n",
    "Subimos el archivo de datos al proyecto y creamos una herramienta `CodeInterpreterTool` que pueda acceder a los datos en él."
   ]
  },
  {
   "cell_type": "code",
   "execution_count": null,
   "metadata": {},
   "outputs": [],
   "source": [
    "print(\"Uploading file...\")\n",
    "file = agent_client.files.upload_and_poll(\n",
    "    file_path=str(file_path), purpose=FilePurpose.AGENTS\n",
    ")\n",
    "print(f\"File uploaded: {file.filename}\")\n",
    "\n",
    "# Create CodeInterpreterTool with uploaded file\n",
    "code_interpreter = CodeInterpreterTool(file_ids=[file.id])\n",
    "print(\"Code interpreter tool created\")"
   ]
  },
  {
   "cell_type": "markdown",
   "metadata": {},
   "source": [
    "### Definir un agente que usa la herramienta CodeInterpreterTool\n",
    "\n",
    "Creamos un agente de IA con instrucciones específicas sobre su rol y las herramientas que puede utilizar."
   ]
  },
  {
   "cell_type": "code",
   "execution_count": null,
   "metadata": {},
   "outputs": [],
   "source": [
    "print(\"Creating agent...\")\n",
    "agent = agent_client.create_agent(\n",
    "    model=model_deployment,\n",
    "    name=\"manufacturing-analyst\",\n",
    "    instructions=(\n",
    "        \"\"\"\n",
    "        Eres un agente de IA especializado en analizar datos de costos de fabricación de componentes aeroespaciales de la empresa.\n",
    "        Analiza el archivo de datos cargado que contiene costos de fabricación en EUR.\n",
    "        Usa Python para calcular métricas estadísticas, identificar tendencias de costos y proporcionar\n",
    "        recomendaciones para la optimización de la fabricación aeroespacial.\n",
    "        \"\"\"\n",
    "    ),\n",
    "    tools=code_interpreter.definitions,\n",
    "    tool_resources=code_interpreter.resources,\n",
    ")\n",
    "print(f\"Agent created: {agent.name} (id: {agent.id})\")"
   ]
  },
  {
   "cell_type": "markdown",
   "metadata": {},
   "source": [
    "### Crear un hilo (thread) para la conversación\n",
    "\n",
    "Iniciamos un hilo donde se ejecutará la sesión de chat con el agente."
   ]
  },
  {
   "cell_type": "code",
   "execution_count": null,
   "metadata": {},
   "outputs": [],
   "source": [
    "print(\"Creating thread...\")\n",
    "thread = agent_client.threads.create()\n",
    "print(f\"Thread created (id: {thread.id})\")"
   ]
  },
  {
   "cell_type": "markdown",
   "metadata": {},
   "source": [
    "### Definir la lógica para enviar prompts y procesar respuestas\n",
    "\n",
    "Esta función encapsula la lógica para enviar un mensaje al agente, procesarlo y obtener la respuesta."
   ]
  },
  {
   "cell_type": "code",
   "execution_count": null,
   "metadata": {},
   "outputs": [],
   "source": [
    "def send_prompt_to_agent(prompt):\n",
    "    print(f\"Sending prompt: '{prompt}'\")\n",
    "    message = agent_client.messages.create(\n",
    "        thread_id=thread.id,\n",
    "        role=\"user\",\n",
    "        content=prompt,\n",
    "    )\n",
    "    print(f\"User message created (thread: {thread.id})\")\n",
    "\n",
    "    # Crear y procesar la ejecución (run)\n",
    "    print(\"Processing run...\")\n",
    "    run = agent_client.runs.create_and_process(thread_id=thread.id, agent_id=agent.id)\n",
    "    print(f\"Run completed with status: {run.status}\")\n",
    "\n",
    "    # Comprobar el estado de la ejecución\n",
    "    if run.status == \"failed\":\n",
    "        print(f\"Run failed: {run.last_error}\")\n",
    "    else:\n",
    "        print(\"Retrieving agent response...\")\n",
    "        # Mostrar la última respuesta del agente\n",
    "        last_msg = agent_client.messages.get_last_message_text_by_role(\n",
    "            thread_id=thread.id,\n",
    "            role=MessageRole.AGENT,\n",
    "        )\n",
    "        if last_msg:\n",
    "            print(\"Agent response:\")\n",
    "            print(f\"{last_msg.text.value}\")\n",
    "\n",
    "print(\"Function 'send_prompt_to_agent' defined successfully\")"
   ]
  },
  {
   "cell_type": "code",
   "execution_count": null,
   "metadata": {},
   "outputs": [],
   "source": [
    "user_prompt = \"¿Cuál es el componente aeroespacial con el costo de fabricación más alto?\"\n",
    "\n",
    "# Send prompt to agent\n",
    "send_prompt_to_agent(user_prompt)\n"
   ]
  },
  {
   "cell_type": "code",
   "execution_count": null,
   "metadata": {},
   "outputs": [],
   "source": [
    "user_prompt = \"Crea un gráfico de barras basado en texto mostrando el costo de fabricación por componente aeroespacial\"\n",
    "\n",
    "# Send prompt to agent\n",
    "send_prompt_to_agent(user_prompt)"
   ]
  },
  {
   "cell_type": "code",
   "execution_count": null,
   "metadata": {},
   "outputs": [],
   "source": [
    "user_prompt = \"¿Cuál es la desviación estándar de los costos de fabricación? ¿Qué componentes están por encima del promedio?\"\n",
    "\n",
    "# Send prompt to agent\n",
    "send_prompt_to_agent(user_prompt)"
   ]
  },
  {
   "cell_type": "markdown",
   "metadata": {},
   "source": [
    "### Obtener el historial de la conversación\n",
    "\n",
    "Una vez que hayas terminado de interactuar con el agente, puedes ver el registro completo de la conversación."
   ]
  },
  {
   "cell_type": "code",
   "execution_count": null,
   "metadata": {},
   "outputs": [],
   "source": [
    "print(\"\\nConversation history:\\n\")\n",
    "messages = agent_client.messages.list(thread_id=thread.id, order=ListSortOrder.ASCENDING)\n",
    "for message in messages:\n",
    "    if message.text_messages:\n",
    "        last_msg = message.text_messages[-1]\n",
    "        print(f\"{message.role}: {last_msg.text.value}\\n\")"
   ]
  },
  {
   "cell_type": "markdown",
   "metadata": {},
   "source": [
    "### Limpieza\n",
    "\n",
    "Finalmente, elimina el agente para liberar recursos."
   ]
  },
  {
   "cell_type": "code",
   "execution_count": null,
   "metadata": {},
   "outputs": [],
   "source": [
    "print(f\"Deleting agent (id: {agent.id})...\")\n",
    "agent_client.delete_agent(agent.id)\n",
    "print(\"Agent deleted successfully\")"
   ]
  }
 ],
 "metadata": {
  "kernelspec": {
   "display_name": "Python 3",
   "language": "python",
   "name": "python3"
  },
  "language_info": {
   "codemirror_mode": {
    "name": "ipython",
    "version": 3
   },
   "file_extension": ".py",
   "mimetype": "text/x-python",
   "name": "python",
   "nbconvert_exporter": "python",
   "pygments_lexer": "ipython3",
   "version": "3.12.1"
  }
 },
 "nbformat": 4,
 "nbformat_minor": 2
}
