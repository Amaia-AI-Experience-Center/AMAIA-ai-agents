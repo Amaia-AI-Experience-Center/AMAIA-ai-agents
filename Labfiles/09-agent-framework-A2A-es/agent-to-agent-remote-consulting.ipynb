{
 "cells": [
  {
   "cell_type": "markdown",
   "metadata": {},
   "source": [
    "# Interacción Agente-a-Agente (A2A): Consultor Técnico Aeroespacial Remoto\n",
    "\n",
    "## Descripción\n",
    "\n",
    "En este ejercicio, trabajarás con comunicación Agente-a-Agente (A2A), un patrón donde un agente local se comunica con un agente remoto alojado en un servidor FastAPI. El agente remoto proporciona consultoría técnica en ingeniería aeroespacial.\n",
    "\n",
    "### Requisitos Previos\n",
    "- El servidor remoto debe estar ejecutándose: `python remote-agent/agent.py`\n",
    "- Configuración de Azure AI Foundry completada (PROJECT_ENDPOINT, MODEL_DEPLOYMENT_NAME)\n",
    "- Protocolo HTTP disponible en localhost:8000"
   ]
  },
  {
   "cell_type": "markdown",
   "metadata": {},
   "source": [
    "Este notebook demuestra una interacción Agente-a-Agente (A2A) donde un agente local se comunica con un agente remoto ejecutándose en `http://127.0.0.1:8000`. El agente remoto proporciona soporte técnico especializado en ingeniería aeroespacial."
   ]
  },
  {
   "cell_type": "markdown",
   "metadata": {},
   "source": [
    "## 1. Importar Librerías"
   ]
  },
  {
   "cell_type": "code",
   "execution_count": null,
   "metadata": {},
   "outputs": [],
   "source": [
    "import httpx\n",
    "from a2a.client import A2ACardResolver\n",
    "from agent_framework.a2a import A2AAgent"
   ]
  },
  {
   "cell_type": "markdown",
   "metadata": {},
   "source": [
    "## 2. Inicializar Comunicación A2A"
   ]
  },
  {
   "cell_type": "code",
   "execution_count": null,
   "metadata": {},
   "outputs": [],
   "source": [
    "async def main():\n",
    "    # Create an async HTTP client for communication\n",
    "    async with httpx.AsyncClient(timeout=60.0) as http_client:\n",
    "        # Initialize the A2A card resolver to retrieve remote agent metadata\n",
    "        resolver = A2ACardResolver(\n",
    "            httpx_client=http_client, base_url=\"http://127.0.0.1:8000\"\n",
    "        )\n",
    "        try:\n",
    "            print(\"Retrieving agent card from remote agent...\")\n",
    "            agent_card = await resolver.get_agent_card(\n",
    "                relative_card_path=\"/.well-known/agent.json\"\n",
    "            )\n",
    "            print(f\"   Agent Name: {agent_card.name}\")\n",
    "            print(f\"   Description: {agent_card.description}\")\n",
    "            print(f\"   URL: http://127.0.0.1:8000/invoke\")\n",
    "            print(\"-\"*80 + \"\\n\")\n",
    "            \n",
    "            # Create an A2A agent instance with the retrieved card\n",
    "            agent = A2AAgent(\n",
    "                name=agent_card.name,   \n",
    "                description=agent_card.description,\n",
    "                agent_card=agent_card,\n",
    "                url=\"http://127.0.0.1:8000/invoke\",\n",
    "            )\n",
    "\n",
    "            # Create a new conversation thread\n",
    "            thread = agent.get_new_thread()\n",
    "            \n",
    "            # Define the question to send to the remote agent\n",
    "            question = \"¿Qué medidas deben tomarse respecto al torque de nivel según la JSSG?\"\n",
    "            print(f\"Sending question to remote agent...\")\n",
    "            \n",
    "            print(\"Waiting for remote agent response...\\n\")\n",
    "            # Send the question and wait for the response\n",
    "            response = await agent.run(question, thread=thread, http_client=http_client)\n",
    "\n",
    "            print(\"RESPONSE FROM REMOTE AGENT:\")\n",
    "            print(\"=\"*80)\n",
    "            for message in response.messages:\n",
    "                print(message.text)\n",
    "            print(\"=\"*80 + \"\\n\")\n",
    "\n",
    "        except httpx.ConnectError as e:\n",
    "            print(f\"Connection error: {e}\")\n",
    "            print(\"   Make sure the remote agent server is running on http://127.0.0.1:8000\")\n",
    "        except Exception as e:\n",
    "            print(f\"An error occurred: {e}\")"
   ]
  },
  {
   "cell_type": "markdown",
   "metadata": {},
   "source": [
    "## 3. Ejecutar el Demo A2A"
   ]
  },
  {
   "cell_type": "code",
   "execution_count": null,
   "metadata": {},
   "outputs": [],
   "source": [
    "await main()"
   ]
  }
 ],
 "metadata": {
  "kernelspec": {
   "display_name": "Python 3",
   "language": "python",
   "name": "python3"
  },
  "language_info": {
   "codemirror_mode": {
    "name": "ipython",
    "version": 3
   },
   "file_extension": ".py",
   "mimetype": "text/x-python",
   "name": "python",
   "nbconvert_exporter": "python",
   "pygments_lexer": "ipython3",
   "version": "3.12.1"
  }
 },
 "nbformat": 4,
 "nbformat_minor": 4
}
